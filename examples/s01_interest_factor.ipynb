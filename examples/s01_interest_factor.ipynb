{
 "cells": [
  {
   "cell_type": "markdown",
   "id": "98012f96-4abd-4dca-b0f8-0045713c4ed3",
   "metadata": {},
   "source": [
    "# InterestFactorの使用方法"
   ]
  },
  {
   "cell_type": "code",
   "execution_count": null,
   "id": "230c6100-24ec-434e-88d7-ce83db7ca5c4",
   "metadata": {},
   "outputs": [],
   "source": [
    "import sys\n",
    "sys.path.append('..')\n",
    "\n",
    "from fpyjp.schemas.balance import AssetLiabilitySchema\n",
    "from fpyjp.core.interest_factor import InterestFactor\n",
    "from fpyjp.core.balance_simulator import AssetLiabilitySimulator"
   ]
  },
  {
   "cell_type": "markdown",
   "id": "83bf8ecd-c876-4cf2-8e3c-cb29b3c3afad",
   "metadata": {},
   "source": [
    "## 終価係数"
   ]
  },
  {
   "cell_type": "code",
   "execution_count": null,
   "id": "7ef119c6-4f0f-479d-9848-bd55808e6b00",
   "metadata": {},
   "outputs": [],
   "source": [
    "rate = 0.05\n",
    "time_period = 5\n",
    "amount = 1"
   ]
  },
  {
   "cell_type": "code",
   "execution_count": null,
   "id": "14c154ec-417e-451f-add6-5b6da15add75",
   "metadata": {},
   "outputs": [],
   "source": [
    "InterestFactor(\n",
    "    rate=rate, \n",
    "    time_period=time_period, \n",
    "    amount=amount\n",
    ").calculate_future_value()"
   ]
  },
  {
   "cell_type": "code",
   "execution_count": null,
   "id": "f1b28658-0cd1-446a-9fa2-a6ef209210d0",
   "metadata": {},
   "outputs": [],
   "source": [
    "AssetLiabilitySimulator(\n",
    "    initial_cash_balance = 0,\n",
    "    initial_al_balance = 0,\n",
    "    initial_al_book_balance = 0,\n",
    "    initial_price = 1,\n",
    "    rate = rate,\n",
    "    cash_inflow_per_unit = 0,\n",
    "    capital_cash_inflow_before_tax = 0,\n",
    "    cash_outflow = amount,\n",
    "    income_gain_tax_rate = 0,\n",
    "    capital_gain_tax_rate = 0,\n",
    ").simulate(n_periods=time_period+1)"
   ]
  },
  {
   "cell_type": "code",
   "execution_count": null,
   "id": "d5e9a01e-412e-4e69-94a9-c85b75caeecc",
   "metadata": {},
   "outputs": [],
   "source": [
    "al_schema = AssetLiabilitySchema(\n",
    "    price=1,\n",
    "    unit=0,\n",
    "    balance=0,\n",
    "    book_balance=0,\n",
    "    cashinflow_per_unit=0,\n",
    "    rate=0.05,\n",
    ")\n",
    "AssetLiabilitySimulator(\n",
    "    al_schema=al_schema,\n",
    "    initial_cash_balance = 0,\n",
    "    capital_cash_inflow_before_tax = 0,\n",
    "    cash_outflow = 1,\n",
    "    income_gain_tax_rate = 0,\n",
    "    capital_gain_tax_rate = 0,\n",
    ").simulate(n_periods=time_period+1)"
   ]
  },
  {
   "cell_type": "markdown",
   "id": "3a6a7266-82a5-4cde-b1e9-16293e2fafe6",
   "metadata": {},
   "source": [
    "## 現価係数"
   ]
  },
  {
   "cell_type": "code",
   "execution_count": null,
   "id": "91348a33-7f44-4b17-a65b-2290b2d3ef76",
   "metadata": {},
   "outputs": [],
   "source": [
    "rate = 0.05\n",
    "time_period = 5\n",
    "amount = 1"
   ]
  },
  {
   "cell_type": "code",
   "execution_count": null,
   "id": "c306ce45-132e-46ea-a45b-ba8a0c68b87b",
   "metadata": {},
   "outputs": [],
   "source": [
    "InterestFactor(\n",
    "    rate=rate, \n",
    "    time_period=time_period, \n",
    "    amount=amount\n",
    ").calculate_present_value()"
   ]
  },
  {
   "cell_type": "code",
   "execution_count": null,
   "id": "80c7627d-d9a1-4e88-9eeb-72a46f70aa52",
   "metadata": {},
   "outputs": [],
   "source": [
    "AssetLiabilitySimulator(\n",
    "    initial_cash_balance = 0,\n",
    "    initial_al_balance = 0,\n",
    "    initial_al_book_balance = 0,\n",
    "    initial_price = 1,\n",
    "    rate = rate,\n",
    "    cash_inflow_per_unit = 0,\n",
    "    capital_cash_inflow_before_tax = 0,\n",
    "    cash_outflow = InterestFactor(rate=rate, time_period=time_period, amount=amount).calculate_present_value(),\n",
    "    income_gain_tax_rate = 0,\n",
    "    capital_gain_tax_rate = 0,\n",
    ").simulate(n_periods=time_period+1)"
   ]
  },
  {
   "cell_type": "code",
   "execution_count": null,
   "id": "dbf4e357-2b29-40d8-9126-814f16d03ace",
   "metadata": {},
   "outputs": [],
   "source": [
    "al_schema = AssetLiabilitySchema(\n",
    "    price=1,\n",
    "    unit=0,\n",
    "    balance=0,\n",
    "    book_balance=0,\n",
    "    cashinflow_per_unit=0,\n",
    "    rate=rate,\n",
    ")\n",
    "AssetLiabilitySimulator(\n",
    "    al_schema=al_schema,\n",
    "    initial_cash_balance = 0,\n",
    "    capital_cash_inflow_before_tax = 0,\n",
    "    cash_outflow = InterestFactor(rate=rate, time_period=time_period, amount=amount).calculate_present_value(),\n",
    "    income_gain_tax_rate = 0,\n",
    "    capital_gain_tax_rate = 0,\n",
    ").simulate(n_periods=time_period+1)"
   ]
  },
  {
   "cell_type": "markdown",
   "id": "a98ced0c-9a4b-4085-b89b-0f9bbd1c25d5",
   "metadata": {},
   "source": [
    "## 年金終価係数"
   ]
  },
  {
   "cell_type": "code",
   "execution_count": null,
   "id": "963beda2-d56e-4e86-b7a0-21446d893dea",
   "metadata": {},
   "outputs": [],
   "source": [
    "rate = 0.05\n",
    "time_period = 5\n",
    "amount = 1"
   ]
  },
  {
   "cell_type": "code",
   "execution_count": null,
   "id": "a6d9d0fc-4861-4456-9a3a-220e6f8790f4",
   "metadata": {},
   "outputs": [],
   "source": [
    "InterestFactor(\n",
    "    rate=rate, \n",
    "    time_period=time_period, \n",
    "    amount=amount\n",
    ").calculate_future_value_of_annuity()"
   ]
  },
  {
   "cell_type": "code",
   "execution_count": null,
   "id": "7130ae0f-aa59-4584-986e-e2b398b1becf",
   "metadata": {},
   "outputs": [],
   "source": [
    "AssetLiabilitySimulator(\n",
    "    initial_cash_balance = 0,\n",
    "    initial_al_balance = 0,\n",
    "    initial_al_book_balance = 0,\n",
    "    initial_price = 1,\n",
    "    rate = rate,\n",
    "    cash_inflow_per_unit = 0,\n",
    "    capital_cash_inflow_before_tax = 0,\n",
    "    cash_outflow = [amount] * time_period,\n",
    "    income_gain_tax_rate = 0,\n",
    "    capital_gain_tax_rate = 0,\n",
    ").simulate(n_periods=5)"
   ]
  },
  {
   "cell_type": "code",
   "execution_count": null,
   "id": "da98f7b3-f508-4e54-b9a1-d4f31704129e",
   "metadata": {},
   "outputs": [],
   "source": [
    "al_schema = AssetLiabilitySchema(\n",
    "    price=1,\n",
    "    unit=0,\n",
    "    balance=0,\n",
    "    book_balance=0,\n",
    "    cashinflow_per_unit=0,\n",
    "    rate=rate,\n",
    ")\n",
    "AssetLiabilitySimulator(\n",
    "    al_schema=al_schema,\n",
    "    initial_cash_balance = 0,\n",
    "    capital_cash_inflow_before_tax = 0,\n",
    "    cash_outflow = [amount] * time_period,\n",
    "    income_gain_tax_rate = 0,\n",
    "    capital_gain_tax_rate = 0,\n",
    ").simulate(n_periods=time_period)"
   ]
  },
  {
   "cell_type": "markdown",
   "id": "7100e88b-56c1-42c4-be66-a39b58e9acc0",
   "metadata": {},
   "source": [
    "## 減債基金係数"
   ]
  },
  {
   "cell_type": "code",
   "execution_count": null,
   "id": "3d2400ba-7cd4-4fc3-b437-428e2e4e33cb",
   "metadata": {},
   "outputs": [],
   "source": [
    "rate = 0.05\n",
    "time_period = 5\n",
    "amount = 1"
   ]
  },
  {
   "cell_type": "code",
   "execution_count": null,
   "id": "32dfeca8-de61-4c8f-958a-107639245605",
   "metadata": {},
   "outputs": [],
   "source": [
    "InterestFactor(\n",
    "    rate=rate, \n",
    "    time_period=time_period, \n",
    "    amount=amount\n",
    ").calculate_sinking_fund()"
   ]
  },
  {
   "cell_type": "code",
   "execution_count": null,
   "id": "a7c637fc-4da5-47cd-8312-d8adec0ddeab",
   "metadata": {},
   "outputs": [],
   "source": [
    "AssetLiabilitySimulator(\n",
    "    initial_cash_balance = 0,\n",
    "    initial_al_balance = 0,\n",
    "    initial_al_book_balance = 0,\n",
    "    initial_price = 1,\n",
    "    rate = 0.05,\n",
    "    cash_inflow_per_unit = 0,\n",
    "    capital_cash_inflow_before_tax = 0,\n",
    "    cash_outflow = [InterestFactor(rate=rate, time_period=time_period, amount=amount).calculate_sinking_fund()] * time_period,\n",
    "    income_gain_tax_rate = 0,\n",
    "    capital_gain_tax_rate = 0,\n",
    ").simulate(n_periods=time_period)"
   ]
  },
  {
   "cell_type": "code",
   "execution_count": null,
   "id": "50b781be-9f61-4686-9b1c-ff094305c60a",
   "metadata": {},
   "outputs": [],
   "source": [
    "al_schema = AssetLiabilitySchema(\n",
    "    price=1,\n",
    "    unit=0,\n",
    "    balance=0,\n",
    "    book_balance=0,\n",
    "    cashinflow_per_unit=0,\n",
    "    rate=rate,\n",
    ")\n",
    "AssetLiabilitySimulator(\n",
    "    al_schema=al_schema,\n",
    "    initial_cash_balance = 0,\n",
    "    capital_cash_inflow_before_tax = 0,\n",
    "    cash_outflow = [InterestFactor(rate=rate, time_period=time_period, amount=amount).calculate_sinking_fund()] * time_period,\n",
    "    income_gain_tax_rate = 0,\n",
    "    capital_gain_tax_rate = 0,\n",
    ").simulate(n_periods=time_period)"
   ]
  },
  {
   "cell_type": "markdown",
   "id": "5addee8d-ce94-4376-90b9-2c36c51101db",
   "metadata": {},
   "source": [
    "## 資本回収係数"
   ]
  },
  {
   "cell_type": "code",
   "execution_count": null,
   "id": "e6601bcc-6a36-439b-8117-04ed7c068104",
   "metadata": {},
   "outputs": [],
   "source": [
    "rate = 0.05\n",
    "time_period = 5\n",
    "amount = 1"
   ]
  },
  {
   "cell_type": "code",
   "execution_count": null,
   "id": "3d35ff58-f8a7-46a7-9cd0-8d34d5402cc0",
   "metadata": {},
   "outputs": [],
   "source": [
    "InterestFactor(\n",
    "    rate=rate, \n",
    "    time_period=time_period, \n",
    "    amount=amount\n",
    ").calculate_capital_recovery()"
   ]
  },
  {
   "cell_type": "code",
   "execution_count": null,
   "id": "e113420f-5815-468b-b35a-5d8a366b02c4",
   "metadata": {},
   "outputs": [],
   "source": [
    "AssetLiabilitySimulator(\n",
    "    initial_cash_balance = 0,\n",
    "    initial_al_balance = 0,\n",
    "    initial_al_book_balance = 0,\n",
    "    initial_price = 1,\n",
    "    rate = rate,\n",
    "    cash_inflow_per_unit = 0,\n",
    "    capital_cash_inflow_before_tax = [0] + [InterestFactor(rate=rate, time_period=time_period, amount=amount).calculate_capital_recovery()] * time_period,\n",
    "    cash_outflow = 1,\n",
    "    income_gain_tax_rate = 0,\n",
    "    capital_gain_tax_rate = 0,\n",
    ").simulate(n_periods=time_period+1)"
   ]
  },
  {
   "cell_type": "code",
   "execution_count": null,
   "id": "3b5815f1-80fc-42a7-9753-3e773bc73596",
   "metadata": {},
   "outputs": [],
   "source": [
    "al_schema = AssetLiabilitySchema(\n",
    "    price=1,\n",
    "    unit=0,\n",
    "    balance=0,\n",
    "    book_balance=0,\n",
    "    cashinflow_per_unit=0,\n",
    "    rate=rate,\n",
    ")\n",
    "AssetLiabilitySimulator(\n",
    "    al_schema=al_schema,\n",
    "    initial_cash_balance = 0,\n",
    "    capital_cash_inflow_before_tax =  [0] + [InterestFactor(rate=rate, time_period=time_period, amount=amount).calculate_capital_recovery()] * time_period,\n",
    "    cash_outflow = 1,\n",
    "    income_gain_tax_rate = 0,\n",
    "    capital_gain_tax_rate = 0,\n",
    ").simulate(n_periods=time_period+1)"
   ]
  },
  {
   "cell_type": "markdown",
   "id": "88bfffd8-02d5-4efe-b699-c56c28617aca",
   "metadata": {},
   "source": [
    "## 年金現価係数"
   ]
  },
  {
   "cell_type": "code",
   "execution_count": null,
   "id": "0431e02f-60c2-41dd-b126-442a3e191f84",
   "metadata": {},
   "outputs": [],
   "source": [
    "rate = 0.05\n",
    "time_period = 5\n",
    "amount = 1"
   ]
  },
  {
   "cell_type": "code",
   "execution_count": null,
   "id": "7c63b293-3079-4c86-97be-33042ed920f0",
   "metadata": {},
   "outputs": [],
   "source": [
    "InterestFactor(\n",
    "    rate=rate, \n",
    "    time_period=time_period, \n",
    "    amount=amount\n",
    ").calculate_present_value_of_annuity()"
   ]
  },
  {
   "cell_type": "code",
   "execution_count": null,
   "id": "6405a938-94b9-4351-a703-2d6c65ace567",
   "metadata": {},
   "outputs": [],
   "source": [
    "AssetLiabilitySimulator(\n",
    "    initial_cash_balance = 0,\n",
    "    initial_al_balance = 0,\n",
    "    initial_al_book_balance = 0,\n",
    "    initial_price = 1,\n",
    "    rate = rate,\n",
    "    cash_inflow_per_unit = 0,\n",
    "    capital_cash_inflow_before_tax = [0] + [1] * time_period,\n",
    "    cash_outflow = InterestFactor(rate=rate, time_period=time_period, amount=amount).calculate_present_value_of_annuity(),\n",
    "    income_gain_tax_rate = 0,\n",
    "    capital_gain_tax_rate = 0,\n",
    ").simulate(n_periods=time_period+1)"
   ]
  },
  {
   "cell_type": "code",
   "execution_count": null,
   "id": "0dae8e78-2ff1-45e1-b809-cb5f67eb29fe",
   "metadata": {},
   "outputs": [],
   "source": [
    "al_schema = AssetLiabilitySchema(\n",
    "    price=1,\n",
    "    unit=0,\n",
    "    balance=0,\n",
    "    book_balance=0,\n",
    "    cashinflow_per_unit=0,\n",
    "    rate=rate,\n",
    ")\n",
    "AssetLiabilitySimulator(\n",
    "    al_schema=al_schema,\n",
    "    initial_cash_balance = 0,\n",
    "    capital_cash_inflow_before_tax = [0] + [1] * time_period,\n",
    "    cash_outflow = InterestFactor(rate=rate, time_period=time_period, amount=amount).calculate_present_value_of_annuity(),\n",
    "    income_gain_tax_rate = 0,\n",
    "    capital_gain_tax_rate = 0,\n",
    ").simulate(n_periods=time_period+1)"
   ]
  },
  {
   "cell_type": "code",
   "execution_count": null,
   "id": "3c13a57a-49a3-4165-8f25-5b7d1c98c554",
   "metadata": {},
   "outputs": [],
   "source": []
  }
 ],
 "metadata": {
  "kernelspec": {
   "display_name": "Python 3 (ipykernel)",
   "language": "python",
   "name": "python3"
  },
  "language_info": {
   "codemirror_mode": {
    "name": "ipython",
    "version": 3
   },
   "file_extension": ".py",
   "mimetype": "text/x-python",
   "name": "python",
   "nbconvert_exporter": "python",
   "pygments_lexer": "ipython3",
   "version": "3.12.10"
  }
 },
 "nbformat": 4,
 "nbformat_minor": 5
}
