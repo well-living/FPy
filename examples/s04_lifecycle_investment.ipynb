{
 "cells": [
  {
   "cell_type": "markdown",
   "id": "c0659ee5-6c33-4d3f-9f74-8cb41842d447",
   "metadata": {},
   "source": [
    "# ライフサイクル投資シミュレーション"
   ]
  },
  {
   "cell_type": "code",
   "execution_count": null,
   "id": "13658493-3a0c-49f0-bb86-a7664daabd5f",
   "metadata": {},
   "outputs": [],
   "source": [
    "import pandas as pd\n",
    "\n",
    "import sys\n",
    "sys.path.append('..')\n",
    "\n",
    "from fpyjp.core.balance_simulator import LifecycleInvestmentSimulator"
   ]
  },
  {
   "cell_type": "code",
   "execution_count": null,
   "id": "11f494dc-335f-4de7-9b3f-09c6a627f830",
   "metadata": {},
   "outputs": [],
   "source": [
    "# シンプルなケース\n",
    "simulator = LifecycleInvestmentSimulator(\n",
    "    contribution_amount=10000, \n",
    "    rate=0.05,  # 5% annual return across all phases\n",
    "    # Period-based specification\n",
    "    accumulation_periods=2,\n",
    "    hold_periods=1,\n",
    "    decumulation_periods=2,\n",
    "    initial_cash_balance=0,\n",
    "    initial_price=1.0,\n",
    ")\n",
    "results = simulator.simulate()\n",
    "results.T"
   ]
  },
  {
   "cell_type": "code",
   "execution_count": null,
   "id": "b28367a0-27ba-42c8-a499-8449b3285545",
   "metadata": {},
   "outputs": [],
   "source": [
    "# 20-year accumulation, 10-year hold, 15-year decumulation\n",
    "simulator = LifecycleInvestmentSimulator(\n",
    "    contribution_amount=10000, \n",
    "    rate=0.05,  # 5% annual return across all phases\n",
    "    \n",
    "    # Period-based specification\n",
    "    accumulation_periods=5,\n",
    "    hold_periods=2,\n",
    "    decumulation_periods=3,\n",
    "    \n",
    "    # Initial settings\n",
    "    initial_cash_balance=0,\n",
    "    initial_price=1.0,\n",
    ")\n",
    "\n",
    "# Run simulation\n",
    "results = simulator.simulate()\n",
    "results.T"
   ]
  },
  {
   "cell_type": "code",
   "execution_count": null,
   "id": "edf4a585-12da-40ce-95e1-e03c6f586cd4",
   "metadata": {},
   "outputs": [],
   "source": [
    "# Different rates for each phase\n",
    "simulator = LifecycleInvestmentSimulator(\n",
    "    contribution_amount=10000,\n",
    "    \n",
    "    # Different rates for each phase\n",
    "    rate_during_accumulation=0.07,  # Higher growth during accumulation\n",
    "    rate_during_hold=0.05,          # Moderate growth during hold\n",
    "    rate_during_decumulation=0.03,  # Conservative during decumulation\n",
    "    \n",
    "    # Period-based specification\n",
    "    accumulation_periods=5,\n",
    "    hold_periods=2,\n",
    "    decumulation_periods=3,\n",
    ")\n",
    "\n",
    "results = simulator.simulate()\n",
    "results.T"
   ]
  },
  {
   "cell_type": "code",
   "execution_count": null,
   "id": "3c26dec8-fad9-4350-8d0b-ba5fb2872da0",
   "metadata": {},
   "outputs": [],
   "source": [
    "simulator = LifecycleInvestmentSimulator(\n",
    "    contribution_amount=10000,\n",
    "    rate=0.06,  # 6% annual return\n",
    "    \n",
    "    # Time-point-based specification\n",
    "    accumulation_end_period=5,      # Accumulation ends at period 30\n",
    "    decumulation_start_period=7,    # Decumulation starts at period 40 (10-year hold)\n",
    "    simulation_end_period=10,        # Simulation ends at period 60 (20-year decumulation)\n",
    ")\n",
    "\n",
    "results = simulator.simulate()\n",
    "results.T"
   ]
  },
  {
   "cell_type": "code",
   "execution_count": null,
   "id": "3a4fe271-fe2e-4391-a82d-7456fa6548c1",
   "metadata": {},
   "outputs": [],
   "source": [
    "# 5 total periods: 2 accumulation + 1 hold + 2 decumulation\n",
    "rate_schedule = [0.08, 0.06, 0.04, 0.03, 0.02]  # Declining rates over time\n",
    "\n",
    "simulator = LifecycleInvestmentSimulator(\n",
    "    contribution_amount=10000,\n",
    "    rate=rate_schedule,  # Will be distributed: [0.08,0.06] + [0.04] + [0.03,0.02]\n",
    "    \n",
    "    accumulation_periods=2,\n",
    "    hold_periods=1,\n",
    "    decumulation_periods=2,\n",
    ")\n",
    "\n",
    "results = simulator.simulate()\n",
    "results.T"
   ]
  },
  {
   "cell_type": "code",
   "execution_count": null,
   "id": "c9bfbd65-e028-40b8-aa6f-ade10ca219f4",
   "metadata": {},
   "outputs": [],
   "source": [
    "# Specify only some phase rates, use fallback for others\n",
    "simulator = LifecycleInvestmentSimulator(\n",
    "    contribution_amount=10000,\n",
    "    rate=0.05,  # Fallback rate for unspecified phases\n",
    "    \n",
    "    # Only specify accumulation and decumulation rates\n",
    "    rate_during_accumulation=0.08,  # High growth during accumulation\n",
    "    rate_during_decumulation=0.02,  # Conservative during decumulation\n",
    "    # rate_during_hold will use fallback rate of 0.05\n",
    "    \n",
    "    accumulation_periods=5,\n",
    "    hold_periods=2,\n",
    "    decumulation_periods=3,\n",
    ")\n",
    "\n",
    "results = simulator.simulate()\n",
    "results.T"
   ]
  },
  {
   "cell_type": "code",
   "execution_count": null,
   "id": "306eb6d6-963d-4dff-8912-74053d71a80e",
   "metadata": {},
   "outputs": [],
   "source": [
    "simulator = LifecycleInvestmentSimulator(\n",
    "    contribution_amount=10000,\n",
    "    rate=0.05,  # Fallback rate for unspecified phases\n",
    "    \n",
    "    # Only specify accumulation and decumulation rates\n",
    "    rate_during_accumulation=0.08,  # High growth during accumulation\n",
    "    rate_during_decumulation=0.02,  # Conservative during decumulation\n",
    "    # rate_during_hold will use fallback rate of 0.05\n",
    "    \n",
    "    accumulation_periods=5,\n",
    "    hold_periods=0,\n",
    "    decumulation_periods=3,\n",
    ")\n",
    "\n",
    "results = simulator.simulate()\n",
    "results.T"
   ]
  },
  {
   "cell_type": "code",
   "execution_count": null,
   "id": "8fd79f42-4346-4e16-9b71-129d77a81ea7",
   "metadata": {},
   "outputs": [],
   "source": [
    "simulator = LifecycleInvestmentSimulator(\n",
    "    contribution_amount=10000,\n",
    "    rate=0.06,  # 6% annual return\n",
    "    \n",
    "    # Time-point-based specification\n",
    "    accumulation_end_period=5,      # Accumulation ends at period 30\n",
    "    decumulation_start_period=5,    # Decumulation starts at period 40 (10-year hold)\n",
    "    simulation_end_period=8,        # Simulation ends at period 60 (20-year decumulation)\n",
    ")\n",
    "\n",
    "results = simulator.simulate()\n",
    "results.T"
   ]
  },
  {
   "cell_type": "code",
   "execution_count": null,
   "id": "fc22b8a1-91ec-4645-b2ec-367bd259360f",
   "metadata": {},
   "outputs": [],
   "source": [
    "simulator = LifecycleInvestmentSimulator(\n",
    "            contribution_amount=10000,\n",
    "            rate=0.05,\n",
    "            accumulation_periods=2,\n",
    "            hold_periods=1,\n",
    "            decumulation_periods=1,\n",
    "        )\n",
    "print(str(simulator.simulate().to_csv()))"
   ]
  },
  {
   "cell_type": "code",
   "execution_count": null,
   "id": "191702db-e43d-482e-abd4-8e3cc27c73ab",
   "metadata": {},
   "outputs": [],
   "source": [
    "mock_accumulation_df = pd.DataFrame({\n",
    "    'price': [1.0, 1.05],\n",
    "    'cash_balance': [-10000, -20000],\n",
    "    'al_unit': [10000, 19048],\n",
    "    'al_balance': [10000, 20000.4],  # 1.05 * 19048 = 20000.4\n",
    "    'al_book_balance': [10000, 20000],\n",
    "}, index=[0, 1])\n",
    "\n",
    "mock_hold_df = pd.DataFrame({\n",
    "    'price': [1.1025],\n",
    "    'cash_balance': [-20000],\n",
    "    'al_unit': [19048],\n",
    "    'al_balance': [21000.54],  # 1.1025 * 19048 = 21000.54\n",
    "    'al_book_balance': [20000],\n",
    "}, index=[0])\n",
    "\n",
    "mock_decumulation_df = pd.DataFrame({\n",
    "    'price': [1.157625],\n",
    "    'cash_balance': [0],\n",
    "    'al_unit': [0],\n",
    "    'al_balance': [0],\n",
    "    'al_book_balance': [0],\n",
    "}, index=[0])\n",
    "\n",
    "simulator = LifecycleInvestmentSimulator(\n",
    "    contribution_amount=10000,\n",
    "    rate=0.05,\n",
    "    accumulation_periods=2,\n",
    "    hold_periods=1,\n",
    "    decumulation_periods=1,\n",
    ")\n",
    "\n",
    "result = simulator.simulate()\n",
    "print(str(result.to_csv()))"
   ]
  },
  {
   "cell_type": "code",
   "execution_count": null,
   "id": "015b1e92-471f-4484-a82d-1d41083f21e7",
   "metadata": {},
   "outputs": [],
   "source": []
  }
 ],
 "metadata": {
  "kernelspec": {
   "display_name": "Python 3 (ipykernel)",
   "language": "python",
   "name": "python3"
  },
  "language_info": {
   "codemirror_mode": {
    "name": "ipython",
    "version": 3
   },
   "file_extension": ".py",
   "mimetype": "text/x-python",
   "name": "python",
   "nbconvert_exporter": "python",
   "pygments_lexer": "ipython3",
   "version": "3.12.10"
  }
 },
 "nbformat": 4,
 "nbformat_minor": 5
}
