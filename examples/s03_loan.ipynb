{
 "cells": [
  {
   "cell_type": "markdown",
   "id": "e9a8d0b7-51ba-40ab-9990-9c56306917f2",
   "metadata": {},
   "source": [
    "# ローン\n"
   ]
  },
  {
   "cell_type": "code",
   "execution_count": null,
   "id": "3eb3e395-b7c7-4186-bc5a-c470b220abda",
   "metadata": {},
   "outputs": [],
   "source": [
    "import sys\n",
    "sys.path.append('..')\n",
    "\n",
    "from fpyjp.schemas.balance import AssetLiabilitySchema\n",
    "from fpyjp.schemas.loan import Loan\n",
    "from fpyjp.core.interest_factor import InterestFactor\n",
    "from fpyjp.core.balance_simulator import AssetLiabilitySimulator"
   ]
  },
  {
   "cell_type": "code",
   "execution_count": null,
   "id": "69401aab-3767-4a85-acf0-01212306ee75",
   "metadata": {},
   "outputs": [],
   "source": []
  },
  {
   "cell_type": "markdown",
   "id": "4d0f612e-6420-4c9f-8464-23bfb339cc40",
   "metadata": {},
   "source": [
    "## 元金均等返済"
   ]
  },
  {
   "cell_type": "code",
   "execution_count": null,
   "id": "cd2399d2-56ca-4bfc-bc51-0d2697b315c8",
   "metadata": {},
   "outputs": [],
   "source": [
    "rate = 0.05\n",
    "time_period = 5\n",
    "amount = 1"
   ]
  },
  {
   "cell_type": "code",
   "execution_count": null,
   "id": "e2634ef7-fde1-4d09-9176-b79e44139426",
   "metadata": {},
   "outputs": [],
   "source": [
    "AssetLiabilitySimulator(\n",
    "    initial_cash_balance = 0,\n",
    "    initial_al_balance = -amount,\n",
    "    initial_al_book_balance = -amount,\n",
    "    initial_price = 1,\n",
    "    rate = 0,\n",
    "    cash_inflow_per_unit = rate,\n",
    "    capital_cash_inflow_before_tax = 0,\n",
    "    cash_outflow = [amount / time_period] * time_period,\n",
    "    income_gain_tax_rate = 0,\n",
    "    capital_gain_tax_rate = 0,\n",
    "    allow_negative_unit=True\n",
    ").simulate(n_periods=time_period)"
   ]
  },
  {
   "cell_type": "code",
   "execution_count": null,
   "id": "5386bfa2-73ed-43fd-bcde-90ef47b57ecf",
   "metadata": {},
   "outputs": [],
   "source": [
    "al_schema = AssetLiabilitySchema(\n",
    "    price=1,\n",
    "    unit=-1,\n",
    "    balance=-1,\n",
    "    book_balance=-1,\n",
    "    cashinflow_per_unit=rate,\n",
    "    rate=0,\n",
    "    allow_negative_unit=True\n",
    ")\n",
    "AssetLiabilitySimulator(\n",
    "    al_schema=al_schema,\n",
    "    initial_cash_balance = 0,\n",
    "    capital_cash_inflow_before_tax = 0,\n",
    "    cash_outflow = [amount / time_period] * time_period,\n",
    "    income_gain_tax_rate = 0,\n",
    "    capital_gain_tax_rate = 0,\n",
    ").simulate(n_periods=time_period)"
   ]
  },
  {
   "cell_type": "code",
   "execution_count": null,
   "id": "aecc8f54-9e08-4a90-a13f-5d171ccffff3",
   "metadata": {},
   "outputs": [],
   "source": []
  },
  {
   "cell_type": "markdown",
   "id": "0cbc3750-5211-4816-8c83-19365b2106cd",
   "metadata": {},
   "source": [
    "## 元利均等返済"
   ]
  },
  {
   "cell_type": "code",
   "execution_count": null,
   "id": "6fa8d90d-0688-49ac-bbdf-fe14bd3a0e41",
   "metadata": {},
   "outputs": [],
   "source": [
    "rate = 0.05\n",
    "time_period = 5\n",
    "amount = 1"
   ]
  },
  {
   "cell_type": "code",
   "execution_count": null,
   "id": "3b1439da-dfac-4bda-b82f-1435d8375657",
   "metadata": {},
   "outputs": [],
   "source": [
    "AssetLiabilitySimulator(\n",
    "    initial_cash_balance = 0,\n",
    "    initial_al_balance = -1,\n",
    "    initial_al_book_balance = -1,\n",
    "    initial_price = 1,\n",
    "    rate = rate,\n",
    "    cash_inflow_per_unit = 0,\n",
    "    capital_cash_inflow_before_tax = 0,\n",
    "    cash_outflow = [0] + [InterestFactor(rate=rate, time_period=time_period, amount=amount).calculate_capital_recovery()] * time_period,\n",
    "    income_gain_tax_rate = 0,\n",
    "    capital_gain_tax_rate = 0,\n",
    "    allow_negative_unit=True\n",
    ").simulate(n_periods=time_period+1)"
   ]
  },
  {
   "cell_type": "code",
   "execution_count": null,
   "id": "559b3a7c-75a4-4e64-a7b2-c89d98b1dce0",
   "metadata": {},
   "outputs": [],
   "source": [
    "al_schema = AssetLiabilitySchema(\n",
    "    price=1,\n",
    "    unit=-1,\n",
    "    balance=-1,\n",
    "    book_balance=-1,\n",
    "    cashinflow_per_unit=0,\n",
    "    rate=rate,\n",
    "    allow_negative_unit=True\n",
    ")\n",
    "AssetLiabilitySimulator(\n",
    "    al_schema=al_schema,\n",
    "    initial_cash_balance = 0,\n",
    "    capital_cash_inflow_before_tax =  0,\n",
    "    cash_outflow =[0] + [InterestFactor(rate=rate, time_period=time_period, amount=amount).calculate_capital_recovery()] * time_period,\n",
    "    income_gain_tax_rate = 0,\n",
    "    capital_gain_tax_rate = 0,\n",
    ").simulate(n_periods=time_period+1)"
   ]
  },
  {
   "cell_type": "code",
   "execution_count": null,
   "id": "67f970ba-3f79-43bc-8d9a-ebe769222607",
   "metadata": {},
   "outputs": [],
   "source": []
  },
  {
   "cell_type": "code",
   "execution_count": null,
   "id": "13176ee7-a4f9-419a-af55-e6998dcae8b6",
   "metadata": {},
   "outputs": [],
   "source": []
  },
  {
   "cell_type": "markdown",
   "id": "4dfcb57c-2972-403c-a5f8-8523eb7d6563",
   "metadata": {},
   "source": [
    "## 新規住宅ローンのシミュレーション\n",
    "\n",
    "https://www.simulation.jhf.go.jp/flat35/kinri/index.php/rates/top/\n"
   ]
  },
  {
   "cell_type": "markdown",
   "id": "6d00000e-86b9-4491-9b8e-f01b6af5f73a",
   "metadata": {},
   "source": [
    "### 元金均等返済シミュレーション"
   ]
  },
  {
   "cell_type": "code",
   "execution_count": null,
   "id": "ef6b1457-e85e-4d18-8730-79acaff4d597",
   "metadata": {},
   "outputs": [],
   "source": [
    "# 新規フラット35住宅ローンの設定\n",
    "new_mortgage_loan = Loan(\n",
    "    name=\"フラット35\",\n",
    "    interest_rate=0.0198,  # 年利1.98%\n",
    "    principal=80_000_000,  # 8000万円\n",
    "    remaining_balance=80_000_000,  # 新規なので元本と同じ\n",
    "    total_term_months=420,  # 35年\n",
    "    remaining_term_months=420,  # 新規なので満期と同じ\n",
    "    repayment_method=\"equal_principal\",  # 元金均等返済\n",
    "    interest_rate_type=\"fixed\",\n",
    "    payment_frequency=1,  # 月次返済\n",
    "    repayment_amount=None  # 計算で求める\n",
    ")\n",
    "new_mortgage_loan"
   ]
  },
  {
   "cell_type": "code",
   "execution_count": null,
   "id": "119a43f0-5747-4637-8b21-11a526994d63",
   "metadata": {},
   "outputs": [],
   "source": [
    "\n",
    "monthly_rate = new_mortgage_loan.interest_rate / 12\n",
    "monthly_repayment_amount = new_mortgage_loan.remaining_balance / new_mortgage_loan.remaining_term_months"
   ]
  },
  {
   "cell_type": "code",
   "execution_count": null,
   "id": "72d12865-2ac6-4f86-8012-dcb94202eb33",
   "metadata": {},
   "outputs": [],
   "source": [
    "al_schema = AssetLiabilitySchema(\n",
    "    name=new_mortgage_loan.name,\n",
    "    price=1,\n",
    "    unit=-new_mortgage_loan.remaining_balance,\n",
    "    balance=-new_mortgage_loan.remaining_balance,\n",
    "    book_balance=-new_mortgage_loan.remaining_balance,\n",
    "    cashinflow_per_unit=monthly_rate,\n",
    "    rate=0,\n",
    "    allow_negative_unit=True\n",
    ")\n",
    "al_schema"
   ]
  },
  {
   "cell_type": "code",
   "execution_count": null,
   "id": "456f9dc5-9705-4baa-ad77-f48af0f317b3",
   "metadata": {},
   "outputs": [],
   "source": [
    "als = AssetLiabilitySimulator(\n",
    "    al_schema=al_schema,\n",
    "    initial_cash_balance = 0,\n",
    "    capital_cash_inflow_before_tax = 0,\n",
    "    cash_outflow = [monthly_repayment_amount] * new_mortgage_loan.remaining_term_months,\n",
    "    income_gain_tax_rate = 0,\n",
    "    capital_gain_tax_rate = 0,\n",
    ")\n",
    "als_df = als.simulate(n_periods=new_mortgage_loan.remaining_term_months)\n",
    "als_df"
   ]
  },
  {
   "cell_type": "code",
   "execution_count": null,
   "id": "52570482-2dcc-4ed1-a472-805334faf9c9",
   "metadata": {},
   "outputs": [],
   "source": [
    "als.calculate_grouped(group_periods=12)"
   ]
  },
  {
   "cell_type": "code",
   "execution_count": null,
   "id": "0eeadb6f-f4c4-4f18-afc2-27ea00722b97",
   "metadata": {},
   "outputs": [],
   "source": [
    "als.calculate_grouped(group_periods=12, first_group_periods=3)"
   ]
  },
  {
   "cell_type": "markdown",
   "id": "e3f23e25-edea-423f-b7fe-ee9cb1f6cf27",
   "metadata": {},
   "source": [
    "### 元利均等返済シミュレーション"
   ]
  },
  {
   "cell_type": "code",
   "execution_count": null,
   "id": "b4b23c0c-2029-4176-a793-26df097f2ebc",
   "metadata": {},
   "outputs": [],
   "source": [
    "# 新規フラット35住宅ローンの設定\n",
    "new_mortgage_loan = Loan(\n",
    "    name=\"フラット35\",\n",
    "    interest_rate=0.0198,  # 年利1.98%\n",
    "    principal=80_000_000,  # 8000万円\n",
    "    remaining_balance=80_000_000,  # 新規なので元本と同じ\n",
    "    total_term_months=420,  # 35年\n",
    "    remaining_term_months=420,  # 新規なので満期と同じ\n",
    "    repayment_method=\"equal_payment\",  # 元金均等返済\n",
    "    interest_rate_type=\"fixed\",\n",
    "    payment_frequency=1,  # 月次返済\n",
    "    repayment_amount=None  # 計算で求める\n",
    ")\n",
    "new_mortgage_loan"
   ]
  },
  {
   "cell_type": "code",
   "execution_count": null,
   "id": "489b13d2-7e43-46a8-b590-31e15ef5e217",
   "metadata": {},
   "outputs": [],
   "source": [
    "monthly_rate = new_mortgage_loan.interest_rate / 12"
   ]
  },
  {
   "cell_type": "code",
   "execution_count": null,
   "id": "66051b77-e6e7-4ff4-b808-554abf9a6cc3",
   "metadata": {},
   "outputs": [],
   "source": [
    "al_schema = AssetLiabilitySchema(\n",
    "    name=new_mortgage_loan.name,\n",
    "    price=1,\n",
    "    unit=-new_mortgage_loan.remaining_balance,\n",
    "    balance=-new_mortgage_loan.remaining_balance,\n",
    "    book_balance=-new_mortgage_loan.remaining_balance,\n",
    "    cashinflow_per_unit=0,\n",
    "    rate=monthly_rate,\n",
    "    allow_negative_unit=True\n",
    ")\n",
    "al_schema"
   ]
  },
  {
   "cell_type": "code",
   "execution_count": null,
   "id": "f7a77280-1342-4c31-9dc2-8a90d8a6f595",
   "metadata": {},
   "outputs": [],
   "source": [
    "InterestFactor(rate=monthly_rate, time_period=new_mortgage_loan.remaining_term_months, amount=new_mortgage_loan.remaining_balance).calculate_capital_recovery()"
   ]
  },
  {
   "cell_type": "code",
   "execution_count": null,
   "id": "22b3bd1c-369c-4688-98b0-e7e604e908b0",
   "metadata": {},
   "outputs": [],
   "source": [
    "AssetLiabilitySimulator(\n",
    "    al_schema=al_schema,\n",
    "    initial_cash_balance = 0,\n",
    "    capital_cash_inflow_before_tax =  0,\n",
    "    cash_outflow =[0] + [InterestFactor(rate=monthly_rate, time_period=new_mortgage_loan.remaining_term_months, amount=new_mortgage_loan.remaining_balance).calculate_capital_recovery()] * new_mortgage_loan.remaining_term_months,\n",
    "    income_gain_tax_rate = 0,\n",
    "    capital_gain_tax_rate = 0,\n",
    ").simulate(n_periods=new_mortgage_loan.remaining_term_months+1)\n"
   ]
  },
  {
   "cell_type": "code",
   "execution_count": null,
   "id": "4c337e8d-d978-4e1b-80bf-193a69e14dde",
   "metadata": {},
   "outputs": [],
   "source": []
  },
  {
   "cell_type": "markdown",
   "id": "504b3113-6ac5-4c86-8506-e370c8f41e17",
   "metadata": {},
   "source": [
    "## 途中からの住宅ローンのシミュレーション"
   ]
  },
  {
   "cell_type": "markdown",
   "id": "284d554a-4ccb-4d9f-a51b-f30a391a2332",
   "metadata": {},
   "source": [
    "### 元金均等返済シミュレーション"
   ]
  },
  {
   "cell_type": "code",
   "execution_count": null,
   "id": "33596040-d587-4459-8189-492718e6d025",
   "metadata": {},
   "outputs": [],
   "source": [
    "# 新規フラット35住宅ローンの設定\n",
    "existing_mortgage_loan = Loan(\n",
    "    name=\"フラット35\",\n",
    "    interest_rate=0.0198,  # 年利1.98%\n",
    "    principal=80_000_000,  # 8000万円\n",
    "    remaining_balance=30_000_000,  # \n",
    "    total_term_months=420,  # 35年\n",
    "    remaining_term_months=120,  # \n",
    "    repayment_method=\"equal_principal\",  # 元金均等返済\n",
    "    interest_rate_type=\"fixed\",\n",
    "    payment_frequency=1,  # 月次返済\n",
    "    repayment_amount=None  # 計算で求める\n",
    ")\n",
    "existing_mortgage_loan"
   ]
  },
  {
   "cell_type": "code",
   "execution_count": null,
   "id": "7d8a4874-09df-4a4d-81d3-fb9fba7e6ba9",
   "metadata": {},
   "outputs": [],
   "source": [
    "\n",
    "monthly_rate = existing_mortgage_loan.interest_rate / 12\n",
    "monthly_repayment_amount = existing_mortgage_loan.remaining_balance / existing_mortgage_loan.remaining_term_months"
   ]
  },
  {
   "cell_type": "code",
   "execution_count": null,
   "id": "0894a7be-887b-485e-b699-b2b9c429ac54",
   "metadata": {},
   "outputs": [],
   "source": [
    "al_schema = AssetLiabilitySchema(\n",
    "    name=existing_mortgage_loan.name,\n",
    "    price=1,\n",
    "    unit=-existing_mortgage_loan.remaining_balance,\n",
    "    balance=-existing_mortgage_loan.remaining_balance,\n",
    "    book_balance=-existing_mortgage_loan.remaining_balance,\n",
    "    cashinflow_per_unit=monthly_rate,\n",
    "    rate=0,\n",
    "    allow_negative_unit=True\n",
    ")\n",
    "al_schema"
   ]
  },
  {
   "cell_type": "code",
   "execution_count": null,
   "id": "d090c0fe-7c81-4aa4-9439-7939b02e824a",
   "metadata": {},
   "outputs": [],
   "source": [
    "AssetLiabilitySimulator(\n",
    "    al_schema=al_schema,\n",
    "    initial_cash_balance = 0,\n",
    "    capital_cash_inflow_before_tax = 0,\n",
    "    cash_outflow = [monthly_repayment_amount] * existing_mortgage_loan.remaining_term_months,\n",
    "    income_gain_tax_rate = 0,\n",
    "    capital_gain_tax_rate = 0,\n",
    ").simulate(n_periods=existing_mortgage_loan.remaining_term_months)"
   ]
  },
  {
   "cell_type": "markdown",
   "id": "42cd470a-3412-44b2-9302-286aaa472d07",
   "metadata": {},
   "source": [
    "### 元利均等返済シミュレーション"
   ]
  },
  {
   "cell_type": "code",
   "execution_count": null,
   "id": "5399a5de-ecb0-4a9b-8ccc-425c3dcd222f",
   "metadata": {},
   "outputs": [],
   "source": [
    "# 新規フラット35住宅ローンの設定\n",
    "existing_mortgage_loan = Loan(\n",
    "    name=\"フラット35\",\n",
    "    interest_rate=0.0198,  # 年利1.98%\n",
    "    principal=80_000_000,  # 8000万円\n",
    "    remaining_balance=30_000_000,  # \n",
    "    total_term_months=420,  # 35年\n",
    "    remaining_term_months=120,  # \n",
    "    repayment_method=\"equal_payment\",  # 元利均等返済\n",
    "    interest_rate_type=\"fixed\",\n",
    "    payment_frequency=1,  # 月次返済\n",
    "    repayment_amount=None  # 計算で求める\n",
    ")\n",
    "existing_mortgage_loan"
   ]
  },
  {
   "cell_type": "code",
   "execution_count": null,
   "id": "da6ab491-bfff-4539-8e19-cf696e02da2d",
   "metadata": {},
   "outputs": [],
   "source": [
    "monthly_rate = existing_mortgage_loan.interest_rate / 12"
   ]
  },
  {
   "cell_type": "code",
   "execution_count": null,
   "id": "a7bf5f76-1758-4684-9ed8-e7dfb6502ead",
   "metadata": {},
   "outputs": [],
   "source": [
    "al_schema = AssetLiabilitySchema(\n",
    "    name=existing_mortgage_loan.name,\n",
    "    price=1,\n",
    "    unit=-existing_mortgage_loan.remaining_balance,\n",
    "    balance=-existing_mortgage_loan.remaining_balance,\n",
    "    book_balance=-existing_mortgage_loan.remaining_balance,\n",
    "    cashinflow_per_unit=0,\n",
    "    rate=monthly_rate,\n",
    "    allow_negative_unit=True\n",
    ")\n",
    "al_schema"
   ]
  },
  {
   "cell_type": "code",
   "execution_count": null,
   "id": "9ba5d251-c0dc-43f4-a53d-653f017d3772",
   "metadata": {},
   "outputs": [],
   "source": [
    "AssetLiabilitySimulator(\n",
    "    al_schema=al_schema,\n",
    "    initial_cash_balance = 0,\n",
    "    capital_cash_inflow_before_tax =  0,\n",
    "    cash_outflow =[0] + [InterestFactor(rate=monthly_rate, time_period=existing_mortgage_loan.remaining_term_months, amount=existing_mortgage_loan.remaining_balance).calculate_capital_recovery()] * existing_mortgage_loan.remaining_term_months,\n",
    "    income_gain_tax_rate = 0,\n",
    "    capital_gain_tax_rate = 0,\n",
    ").simulate(n_periods=existing_mortgage_loan.remaining_term_months+1)"
   ]
  },
  {
   "cell_type": "code",
   "execution_count": null,
   "id": "b57f94c3-ff60-4672-ae9c-3d64b3e22899",
   "metadata": {},
   "outputs": [],
   "source": []
  },
  {
   "cell_type": "code",
   "execution_count": null,
   "id": "0c38a84f-8e91-4e60-a9d6-4d73740dedb4",
   "metadata": {},
   "outputs": [],
   "source": []
  },
  {
   "cell_type": "code",
   "execution_count": null,
   "id": "212cc45b-8f5d-45de-b45b-9801b9f1e987",
   "metadata": {},
   "outputs": [],
   "source": []
  },
  {
   "cell_type": "code",
   "execution_count": null,
   "id": "85d23e38-e323-4e36-a091-a4d0e289317c",
   "metadata": {},
   "outputs": [],
   "source": []
  }
 ],
 "metadata": {
  "kernelspec": {
   "display_name": "Python 3 (ipykernel)",
   "language": "python",
   "name": "python3"
  },
  "language_info": {
   "codemirror_mode": {
    "name": "ipython",
    "version": 3
   },
   "file_extension": ".py",
   "mimetype": "text/x-python",
   "name": "python",
   "nbconvert_exporter": "python",
   "pygments_lexer": "ipython3",
   "version": "3.12.10"
  }
 },
 "nbformat": 4,
 "nbformat_minor": 5
}
