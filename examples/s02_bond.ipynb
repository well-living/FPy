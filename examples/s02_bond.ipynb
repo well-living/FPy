{
 "cells": [
  {
   "cell_type": "markdown",
   "id": "822307a3-b986-431d-b209-b5cbf5d8fae4",
   "metadata": {},
   "source": [
    "# 利付債"
   ]
  },
  {
   "cell_type": "code",
   "execution_count": null,
   "id": "23d49739-47d9-4a35-b53f-ba6a546fb780",
   "metadata": {},
   "outputs": [],
   "source": [
    "import sys\n",
    "sys.path.append('..')\n",
    "\n",
    "from fpyjp.schemas.balance import AssetLiabilitySchema\n",
    "from fpyjp.core.balance_simulator import AssetLiabilitySimulator"
   ]
  },
  {
   "cell_type": "code",
   "execution_count": null,
   "id": "231d9d51-2df9-46c6-bf36-0341f066533d",
   "metadata": {},
   "outputs": [],
   "source": [
    "rate = 0.05\n",
    "time_period = 5\n",
    "amount = 1"
   ]
  },
  {
   "cell_type": "code",
   "execution_count": null,
   "id": "d2a8b25f-f7ef-4758-8349-76cd09558348",
   "metadata": {},
   "outputs": [],
   "source": [
    "AssetLiabilitySimulator(\n",
    "    initial_cash_balance = 0,\n",
    "    initial_al_balance = 0,\n",
    "    initial_al_book_balance = 0,\n",
    "    initial_price = 1,\n",
    "    rate = 0,\n",
    "    cash_inflow_per_unit = rate,\n",
    "    capital_cash_inflow_before_tax = [0] * time_period + [amount],\n",
    "    cash_outflow = amount,\n",
    "    income_gain_tax_rate = 0,\n",
    "    capital_gain_tax_rate = 0,\n",
    ").simulate(n_periods=time_period+1)"
   ]
  },
  {
   "cell_type": "code",
   "execution_count": null,
   "id": "dadbeb96-9ed7-418a-b125-f5fa0c9e769b",
   "metadata": {},
   "outputs": [],
   "source": [
    "al_schema = AssetLiabilitySchema(\n",
    "    price=1,\n",
    "    unit=0,\n",
    "    balance=0,\n",
    "    book_balance=0,\n",
    "    cashinflow_per_unit=rate,\n",
    "    rate=0,\n",
    ")\n",
    "AssetLiabilitySimulator(\n",
    "    al_schema=al_schema,\n",
    "    initial_cash_balance = 0,\n",
    "    capital_cash_inflow_before_tax = [0] * time_period + [amount],\n",
    "    cash_outflow = amount,\n",
    "    income_gain_tax_rate = 0,\n",
    "    capital_gain_tax_rate = 0,\n",
    ").simulate(n_periods=time_period+1)"
   ]
  },
  {
   "cell_type": "code",
   "execution_count": null,
   "id": "bb52fba6-5c93-40ad-90a6-4a19dba4d4ff",
   "metadata": {},
   "outputs": [],
   "source": []
  }
 ],
 "metadata": {
  "kernelspec": {
   "display_name": "Python 3 (ipykernel)",
   "language": "python",
   "name": "python3"
  },
  "language_info": {
   "codemirror_mode": {
    "name": "ipython",
    "version": 3
   },
   "file_extension": ".py",
   "mimetype": "text/x-python",
   "name": "python",
   "nbconvert_exporter": "python",
   "pygments_lexer": "ipython3",
   "version": "3.12.10"
  }
 },
 "nbformat": 4,
 "nbformat_minor": 5
}
